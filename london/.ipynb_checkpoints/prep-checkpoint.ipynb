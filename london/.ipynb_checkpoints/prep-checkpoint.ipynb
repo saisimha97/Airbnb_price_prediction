{
 "cells": [
  {
   "cell_type": "code",
   "execution_count": 16,
   "metadata": {},
   "outputs": [
    {
     "data": {
      "text/plain": [
       "8888100"
      ]
     },
     "execution_count": 16,
     "metadata": {},
     "output_type": "execute_result"
    }
   ],
   "source": [
    "import pandas as pd\n",
    "df = pd.read_csv('/home/jbmai_sai/Documents/london/listings.csv')\n",
    "\n",
    "df.size"
   ]
  },
  {
   "cell_type": "code",
   "execution_count": 18,
   "metadata": {
    "scrolled": false
   },
   "outputs": [
    {
     "name": "stdout",
     "output_type": "stream",
     "text": [
      "(83850, 106)\n"
     ]
    },
    {
     "ename": "AttributeError",
     "evalue": "'DataFrame' object has no attribute 'native_country'",
     "output_type": "error",
     "traceback": [
      "\u001b[0;31m---------------------------------------------------------------------------\u001b[0m",
      "\u001b[0;31mAttributeError\u001b[0m                            Traceback (most recent call last)",
      "\u001b[0;32m<ipython-input-18-2fc973777e51>\u001b[0m in \u001b[0;36m<module>\u001b[0;34m\u001b[0m\n\u001b[1;32m      3\u001b[0m \u001b[0mpd\u001b[0m\u001b[0;34m.\u001b[0m\u001b[0mset_option\u001b[0m\u001b[0;34m(\u001b[0m\u001b[0;34m'display.width'\u001b[0m\u001b[0;34m,\u001b[0m \u001b[0;36m1000\u001b[0m\u001b[0;34m)\u001b[0m\u001b[0;34m\u001b[0m\u001b[0;34m\u001b[0m\u001b[0m\n\u001b[1;32m      4\u001b[0m \u001b[0mprint\u001b[0m\u001b[0;34m(\u001b[0m\u001b[0mdf\u001b[0m\u001b[0;34m.\u001b[0m\u001b[0mshape\u001b[0m\u001b[0;34m)\u001b[0m\u001b[0;34m\u001b[0m\u001b[0;34m\u001b[0m\u001b[0m\n\u001b[0;32m----> 5\u001b[0;31m \u001b[0mdf\u001b[0m\u001b[0;34m.\u001b[0m\u001b[0mnative_country\u001b[0m\u001b[0;34m.\u001b[0m\u001b[0mhead\u001b[0m\u001b[0;34m(\u001b[0m\u001b[0;34m)\u001b[0m\u001b[0;34m\u001b[0m\u001b[0;34m\u001b[0m\u001b[0m\n\u001b[0m",
      "\u001b[0;32m~/anaconda3/envs/AI/lib/python3.7/site-packages/pandas/core/generic.py\u001b[0m in \u001b[0;36m__getattr__\u001b[0;34m(self, name)\u001b[0m\n\u001b[1;32m   5177\u001b[0m             \u001b[0;32mif\u001b[0m \u001b[0mself\u001b[0m\u001b[0;34m.\u001b[0m\u001b[0m_info_axis\u001b[0m\u001b[0;34m.\u001b[0m\u001b[0m_can_hold_identifiers_and_holds_name\u001b[0m\u001b[0;34m(\u001b[0m\u001b[0mname\u001b[0m\u001b[0;34m)\u001b[0m\u001b[0;34m:\u001b[0m\u001b[0;34m\u001b[0m\u001b[0;34m\u001b[0m\u001b[0m\n\u001b[1;32m   5178\u001b[0m                 \u001b[0;32mreturn\u001b[0m \u001b[0mself\u001b[0m\u001b[0;34m[\u001b[0m\u001b[0mname\u001b[0m\u001b[0;34m]\u001b[0m\u001b[0;34m\u001b[0m\u001b[0;34m\u001b[0m\u001b[0m\n\u001b[0;32m-> 5179\u001b[0;31m             \u001b[0;32mreturn\u001b[0m \u001b[0mobject\u001b[0m\u001b[0;34m.\u001b[0m\u001b[0m__getattribute__\u001b[0m\u001b[0;34m(\u001b[0m\u001b[0mself\u001b[0m\u001b[0;34m,\u001b[0m \u001b[0mname\u001b[0m\u001b[0;34m)\u001b[0m\u001b[0;34m\u001b[0m\u001b[0;34m\u001b[0m\u001b[0m\n\u001b[0m\u001b[1;32m   5180\u001b[0m \u001b[0;34m\u001b[0m\u001b[0m\n\u001b[1;32m   5181\u001b[0m     \u001b[0;32mdef\u001b[0m \u001b[0m__setattr__\u001b[0m\u001b[0;34m(\u001b[0m\u001b[0mself\u001b[0m\u001b[0;34m,\u001b[0m \u001b[0mname\u001b[0m\u001b[0;34m,\u001b[0m \u001b[0mvalue\u001b[0m\u001b[0;34m)\u001b[0m\u001b[0;34m:\u001b[0m\u001b[0;34m\u001b[0m\u001b[0;34m\u001b[0m\u001b[0m\n",
      "\u001b[0;31mAttributeError\u001b[0m: 'DataFrame' object has no attribute 'native_country'"
     ]
    }
   ],
   "source": [
    "pd.set_option('display.max_rows', 500)\n",
    "pd.set_option('display.max_columns', 500)\n",
    "pd.set_option('display.width', 1000)\n",
    "print(df.shape)\n",
    "df.head()\n"
   ]
  },
  {
   "cell_type": "markdown",
   "metadata": {},
   "source": [
    "# Here to find out the null values in the whole dataset column wise"
   ]
  },
  {
   "cell_type": "code",
   "execution_count": null,
   "metadata": {},
   "outputs": [],
   "source": [
    "\n",
    "df.isnull().sum()"
   ]
  },
  {
   "cell_type": "markdown",
   "metadata": {},
   "source": [
    "# Dropping columns which are neither Categorical nor nominal nor numerical features and features with % of null or NaN more than 90%"
   ]
  },
  {
   "cell_type": "code",
   "execution_count": null,
   "metadata": {},
   "outputs": [],
   "source": [
    "df.drop(columns = ['scrape_id','neighborhood_overview','thumbnail_url','medium_url','xl_picture_url','picture_url','host_acceptance_rate','neighbourhood_group_cleansed','square_feet','weekly_price','monthly_price','license','jurisdiction_names'],inplace = True)\n",
    "\n"
   ]
  },
  {
   "cell_type": "markdown",
   "metadata": {},
   "source": [
    "# Fill null values with current date so that duration gets 0 "
   ]
  },
  {
   "cell_type": "code",
   "execution_count": null,
   "metadata": {},
   "outputs": [],
   "source": [
    "df[\"first_review\"].fillna(\"2019-11-21\", inplace = True) \n",
    "df[\"last_review\"].fillna(\"2019-11-21\", inplace = True) \n",
    "df[\"host_since\"].fillna(\"2019-11-21\", inplace = True)\n",
    " \n"
   ]
  },
  {
   "cell_type": "markdown",
   "metadata": {},
   "source": [
    "# Parsing host_location for host_country and host_city (Feature Extraction)"
   ]
  },
  {
   "cell_type": "code",
   "execution_count": null,
   "metadata": {},
   "outputs": [],
   "source": [
    "df[\"host_location\"].fillna(\"\", inplace = True)\n",
    "df[\"host_country\"] = \"none\"\n",
    "df[\"host_city\"] = \"none\"\n",
    "\n",
    "\n",
    "for ind in df.index: \n",
    "    \n",
    "    \n",
    "    list = str(df['host_location'][ind]).split(\", \")\n",
    "    if len(list)==1 and len(list[0])!=2:\n",
    "        df['host_country'][ind] = list[0]\n",
    "        \n",
    "    \n",
    "    if len(list[0])==2 and len(list)==1:\n",
    "        if list[0]=='UK':\n",
    "            \n",
    "            df['host_country'][ind] = 'united kingdom'\n",
    "            \n",
    "        if list[0]=='US':\n",
    "            df['host_country'][ind] = 'united states'\n",
    "            \n",
    "        if list[0]=='FR':\n",
    "            df['host_country'][ind] = 'france'\n",
    "            \n",
    "        if list[0]=='ES':\n",
    "            df['host_country'][ind] = 'spain'\n",
    "            \n",
    "        if list[0]=='IT':\n",
    "            df['host_country'][ind] = 'italy'\n",
    "            \n",
    "        if list[0]=='AU':\n",
    "            df['host_country'][ind] = 'australia'\n",
    "            \n",
    "    if len(list)>1:\n",
    "        \n",
    "        df['host_country'][ind] = list[-1]\n",
    "        df['host_city'][ind] = list[0]\n",
    "        \n",
    "        \n",
    "            \n",
    "        \n",
    "            \n",
    "        \n",
    "    \n"
   ]
  },
  {
   "cell_type": "code",
   "execution_count": null,
   "metadata": {},
   "outputs": [],
   "source": [
    "df['host_country'] = df['host_country'].str.lower()\n",
    "df['host_city']=df['host_city'].str.lower()"
   ]
  },
  {
   "cell_type": "markdown",
   "metadata": {},
   "source": [
    "# Space to check value counts (for categorical variables) to take a call"
   ]
  },
  {
   "cell_type": "code",
   "execution_count": null,
   "metadata": {},
   "outputs": [],
   "source": [
    "#df.host_location.fillna(0)\n",
    "df['neighbourhood'].value_counts()\n",
    "#df['neighbourhood'].value_counts()[0:70]\n",
    "#df[df['host_location'].str.contains(\"United Kingdom\") or df['host_location'].str.contains(\"London\") or df['host_location'].str.contains(\"England\")]"
   ]
  },
  {
   "cell_type": "markdown",
   "metadata": {},
   "source": [
    "# dropping summary as it as same as description adn other null and system generated values of 0 significance"
   ]
  },
  {
   "cell_type": "code",
   "execution_count": null,
   "metadata": {},
   "outputs": [],
   "source": [
    "\n",
    "df.drop(columns = ['id','host_id','host_url','listing_url','host_thumbnail_url','host_picture_url','market','zipcode','country_code','summary'],inplace = True)"
   ]
  },
  {
   "cell_type": "markdown",
   "metadata": {},
   "source": [
    "# feature extraction: DateTime parsing for DateTime datatypes and extracting Duration (i.e since how long) "
   ]
  },
  {
   "cell_type": "code",
   "execution_count": null,
   "metadata": {},
   "outputs": [],
   "source": [
    "from dateutil.parser import *\n",
    "from datetime import *\n",
    "\n",
    "for ind in df.index: \n",
    "    \n",
    "    date = parse(df['first_review'][ind], dayfirst=True)\n",
    "    TODAY = date.today()\n",
    "\n",
    " \n",
    "    delta = TODAY - date\n",
    "    df['first_review'][ind] = delta.days\n",
    "    \n",
    "for ind in df.index: \n",
    "    \n",
    "    date = parse(df['last_review'][ind], dayfirst=True)\n",
    "\n",
    "    TODAY = date.today()\n",
    "\n",
    "    delta = TODAY - date\n",
    "    df['last_review'][ind] = delta.days\n",
    "    "
   ]
  },
  {
   "cell_type": "code",
   "execution_count": null,
   "metadata": {},
   "outputs": [],
   "source": [
    "for ind in df.index: \n",
    "    \n",
    "    \n",
    "    date = parse(df['host_since'][ind], dayfirst=True)\n",
    "\n",
    "    TODAY = date.today()\n",
    "\n",
    "    delta = TODAY - date\n",
    "    df['host_since'][ind] = delta.days"
   ]
  },
  {
   "cell_type": "markdown",
   "metadata": {},
   "source": [
    "# parsing out nmerical values from Object (str) data type"
   ]
  },
  {
   "cell_type": "code",
   "execution_count": null,
   "metadata": {},
   "outputs": [],
   "source": [
    "#df.drop(columns = ['street','smart_location'],inplace = True)\n",
    "df.info()\n",
    "\n",
    "df['price'] = df['price'].str.replace('$', '')\n",
    "df['security_deposit'] = df['security_deposit'].str.replace('$', '')\n",
    "df['cleaning_fee'] = df['cleaning_fee'].str.replace('$', '')\n",
    "df['extra_people'] = df['extra_people'].str.replace('$', '')\n"
   ]
  },
  {
   "cell_type": "markdown",
   "metadata": {},
   "source": [
    "# Duration Feature Extraction where is first review is duration "
   ]
  },
  {
   "cell_type": "code",
   "execution_count": null,
   "metadata": {},
   "outputs": [],
   "source": [
    "df['first_review'] = df['first_review'] - df['last_review']"
   ]
  },
  {
   "cell_type": "markdown",
   "metadata": {},
   "source": []
  },
  {
   "cell_type": "markdown",
   "metadata": {},
   "source": [
    "# feature extraction for host_since"
   ]
  },
  {
   "cell_type": "code",
   "execution_count": null,
   "metadata": {},
   "outputs": [],
   "source": [
    "df[\"host_since\"].fillna(\"2019-11-21\", inplace = True)\n",
    "\n",
    "for ind in df.index: \n",
    "    \n",
    "    if df['host_since'][ind] == 'Islington':\n",
    "        df['host_since'][ind] = \"2019-11-21\"\n",
    "        \n",
    "    date = parse(df['host_since'][ind], dayfirst=True)\n",
    "\n",
    "    TODAY = date.today()\n",
    "\n",
    "    delta = TODAY - date\n",
    "    df['host_since'][ind] = delta.days\n",
    "    \n",
    "for ind in df.index: \n",
    "    \n",
    "    df['property_type'][ind] = str(df['property_type'][ind]).strip().lower()"
   ]
  },
  {
   "cell_type": "code",
   "execution_count": null,
   "metadata": {},
   "outputs": [],
   "source": [
    "df.head()"
   ]
  },
  {
   "cell_type": "markdown",
   "metadata": {},
   "source": [
    "# Here the below script is for categorical features to LabelEncoding (Feature Extraction)"
   ]
  },
  {
   "cell_type": "code",
   "execution_count": null,
   "metadata": {},
   "outputs": [],
   "source": [
    "df[\"city\"].fillna(\"none\", inplace = True)"
   ]
  },
  {
   "cell_type": "code",
   "execution_count": null,
   "metadata": {},
   "outputs": [],
   "source": [
    "df[\"city\"] = df[\"city\"].astype('category')\n",
    "df[\"city\"] = df[\"city\"].cat.codes"
   ]
  },
  {
   "cell_type": "code",
   "execution_count": null,
   "metadata": {},
   "outputs": [],
   "source": [
    "df[\"property_type\"] = df[\"property_type\"].astype('category')\n",
    "df[\"property_type\"] = df[\"property_type\"].cat.codes"
   ]
  },
  {
   "cell_type": "code",
   "execution_count": null,
   "metadata": {},
   "outputs": [],
   "source": [
    "df[\"host_country\"] = df[\"host_country\"].astype('category')\n",
    "df[\"host_country\"] = df[\"host_country\"].cat.codes\n",
    "\n",
    "df[\"host_city\"] = df[\"host_city\"].astype('category')\n",
    "df[\"host_city\"] = df[\"host_city\"].cat.codes"
   ]
  },
  {
   "cell_type": "code",
   "execution_count": null,
   "metadata": {},
   "outputs": [],
   "source": [
    "df[\"city\"].fillna(\"none\", inplace = True)\n",
    "df[\"host_country\"] = df[\"host_country\"].astype('category')\n",
    "df[\"host_country\"] = df[\"host_country\"].cat.codes"
   ]
  },
  {
   "cell_type": "markdown",
   "metadata": {},
   "source": [
    "# dropping duplicate columns and pre-parsed columns"
   ]
  },
  {
   "cell_type": "code",
   "execution_count": null,
   "metadata": {},
   "outputs": [],
   "source": [
    "\n",
    "df.drop(columns = ['last_scraped','host_location','host_name','street','smart_location'],inplace = True)\n",
    "\n",
    "df.head()"
   ]
  },
  {
   "cell_type": "code",
   "execution_count": null,
   "metadata": {},
   "outputs": [],
   "source": [
    "df.to_csv('/home/jbmai_sai/Documents/london/preprocess_2.csv')"
   ]
  },
  {
   "cell_type": "markdown",
   "metadata": {},
   "source": [
    "# -----------------------Data Preprocessing Stage 1 Completed---------------------------"
   ]
  },
  {
   "cell_type": "code",
   "execution_count": null,
   "metadata": {},
   "outputs": [],
   "source": [
    "df['bathrooms'].fillna(df['bathrooms'].mode()[0], inplace=True)\n",
    "df['bedrooms'].fillna(df['bedrooms'].mode()[0], inplace=True)\n",
    "df['beds'].fillna(df['beds'].mode()[0], inplace=True)\n",
    "df['security_deposit'].fillna(df['security_deposit'].mode()[0], inplace=True)\n",
    "df['cleaning_fee '].fillna(df['cleaning_fee '].mode()[0], inplace=True)\n",
    "df['Native Country'].fillna(df['Native Country'].mode()[0], inplace=True)\n",
    "df['Native Country'].fillna(df['Native Country'].mode()[0], inplace=True)\n",
    "\n",
    "\n",
    "df = pd.concat([df,pd.get_dummies(df['experiences_offered'], prefix='experiences_offered')],axis=1)\n",
    "df = pd.concat([df,pd.get_dummies(df['hot_response_time'], prefix='hot_response_time')],axis=1)\n",
    "df = pd.concat([df,pd.get_dummies(df['room_type'], prefix='room_type')],axis=1)\n",
    "df = pd.concat([df,pd.get_dummies(df['bed_type'], prefix='bed_type')],axis=1)\n",
    "df = pd.concat([df,pd.get_dummies(df['calendar_last_scraped'], prefix='calendar_last_scraped')],axis=1)\n",
    "df = pd.concat([df,pd.get_dummies(df['cancellation_policy'], prefix='cancellation_policy')],axis=1)\n",
    "df = pd.concat([df,pd.get_dummies(df['country'], prefix='country')],axis=1)\n"
   ]
  },
  {
   "cell_type": "code",
   "execution_count": null,
   "metadata": {},
   "outputs": [],
   "source": [
    "df.drop(columns = ['last_scraped','experiences_offered','country','host_response_time','room_type','bed_type','calendar_last_scraped','cancellation_policy'],inplace = True)"
   ]
  },
  {
   "cell_type": "code",
   "execution_count": null,
   "metadata": {},
   "outputs": [],
   "source": []
  }
 ],
 "metadata": {
  "kernelspec": {
   "display_name": "Python 3",
   "language": "python",
   "name": "python3"
  },
  "language_info": {
   "codemirror_mode": {
    "name": "ipython",
    "version": 3
   },
   "file_extension": ".py",
   "mimetype": "text/x-python",
   "name": "python",
   "nbconvert_exporter": "python",
   "pygments_lexer": "ipython3",
   "version": "3.7.3"
  }
 },
 "nbformat": 4,
 "nbformat_minor": 2
}
